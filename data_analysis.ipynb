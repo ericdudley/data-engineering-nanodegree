{
 "cells": [
  {
   "cell_type": "code",
   "execution_count": 1,
   "id": "5404a047-8e26-47c1-befe-d6ba202a58af",
   "metadata": {
    "execution": {
     "iopub.execute_input": "2022-12-01T06:58:44.816351Z",
     "iopub.status.busy": "2022-12-01T06:58:44.816169Z",
     "iopub.status.idle": "2022-12-01T06:59:24.831259Z",
     "shell.execute_reply": "2022-12-01T06:59:24.830669Z",
     "shell.execute_reply.started": "2022-12-01T06:58:44.816328Z"
    },
    "tags": []
   },
   "outputs": [
    {
     "data": {
      "application/vnd.jupyter.widget-view+json": {
       "model_id": "2d74d508f1b64896bb42f1151a943ee4",
       "version_major": 2,
       "version_minor": 0
      },
      "text/plain": [
       "VBox()"
      ]
     },
     "metadata": {},
     "output_type": "display_data"
    },
    {
     "name": "stdout",
     "output_type": "stream",
     "text": [
      "Starting Spark application\n"
     ]
    },
    {
     "data": {
      "text/html": [
       "<table>\n",
       "<tr><th>ID</th><th>YARN Application ID</th><th>Kind</th><th>State</th><th>Spark UI</th><th>Driver log</th><th>User</th><th>Current session?</th></tr><tr><td>1</td><td>application_1669873483530_0002</td><td>pyspark</td><td>idle</td><td><a target=\"_blank\" href=\"http://ip-172-31-59-98.us-west-2.compute.internal:20888/proxy/application_1669873483530_0002/\" class=\"emr-proxy-link\" emr-resource=\"j-3IA18HO31794F\n",
       "\" application-id=\"application_1669873483530_0002\">Link</a></td><td><a target=\"_blank\" href=\"http://ip-172-31-59-98.us-west-2.compute.internal:8042/node/containerlogs/container_1669873483530_0002_01_000001/livy\" >Link</a></td><td>None</td><td>✔</td></tr></table>"
      ],
      "text/plain": [
       "<IPython.core.display.HTML object>"
      ]
     },
     "metadata": {},
     "output_type": "display_data"
    },
    {
     "data": {
      "application/vnd.jupyter.widget-view+json": {
       "model_id": "",
       "version_major": 2,
       "version_minor": 0
      },
      "text/plain": [
       "FloatProgress(value=0.0, bar_style='info', description='Progress:', layout=Layout(height='25px', width='50%'),…"
      ]
     },
     "metadata": {},
     "output_type": "display_data"
    },
    {
     "name": "stdout",
     "output_type": "stream",
     "text": [
      "SparkSession available as 'spark'.\n"
     ]
    },
    {
     "data": {
      "application/vnd.jupyter.widget-view+json": {
       "model_id": "",
       "version_major": 2,
       "version_minor": 0
      },
      "text/plain": [
       "FloatProgress(value=0.0, bar_style='info', description='Progress:', layout=Layout(height='25px', width='50%'),…"
      ]
     },
     "metadata": {},
     "output_type": "display_data"
    }
   ],
   "source": [
    "import pyspark.sql.functions as F\n",
    "from pyspark.sql import SparkSession\n",
    "\n",
    "spark = SparkSession.builder.appName('analysis').getOrCreate()\n",
    "sc = spark.sparkContext\n",
    "\n",
    "\n",
    "# Load all dataframes\n",
    "\n",
    "# Fact table\n",
    "discharges_df = spark.read.parquet(\"s3://udacity-data-engineering-nanodegree-capstone-project/tables/discharges.parquet\")\n",
    "\n",
    "# Dimension tables\n",
    "facilities_df = spark.read.parquet(\"s3://udacity-data-engineering-nanodegree-capstone-project/tables/medical_facility.parquet\")\n",
    "apr_drg_code_df = spark.read.parquet(\"s3://udacity-data-engineering-nanodegree-capstone-project/tables/apr_drg_code.parquet\")\n",
    "apr_mdc_code_df = spark.read.parquet(\"s3://udacity-data-engineering-nanodegree-capstone-project/tables/apr_mdc_code.parquet\")"
   ]
  },
  {
   "cell_type": "markdown",
   "id": "1d3cb1d0-75e2-4066-90c5-a36cdce87486",
   "metadata": {},
   "source": [
    "### What are the top three ZIP codes in medical costs?"
   ]
  },
  {
   "cell_type": "code",
   "execution_count": 2,
   "id": "944967ca-9b2e-489e-87e3-5e5ec10dc312",
   "metadata": {
    "execution": {
     "iopub.execute_input": "2022-12-01T06:59:24.832366Z",
     "iopub.status.busy": "2022-12-01T06:59:24.832190Z",
     "iopub.status.idle": "2022-12-01T06:59:25.099189Z",
     "shell.execute_reply": "2022-12-01T06:59:25.098439Z",
     "shell.execute_reply.started": "2022-12-01T06:59:24.832344Z"
    },
    "tags": []
   },
   "outputs": [
    {
     "data": {
      "application/vnd.jupyter.widget-view+json": {
       "model_id": "114ae43acb2b473b97bee9c2467ff3ee",
       "version_major": 2,
       "version_minor": 0
      },
      "text/plain": [
       "VBox()"
      ]
     },
     "metadata": {},
     "output_type": "display_data"
    },
    {
     "data": {
      "application/vnd.jupyter.widget-view+json": {
       "model_id": "",
       "version_major": 2,
       "version_minor": 0
      },
      "text/plain": [
       "FloatProgress(value=0.0, bar_style='info', description='Progress:', layout=Layout(height='25px', width='50%'),…"
      ]
     },
     "metadata": {},
     "output_type": "display_data"
    }
   ],
   "source": [
    "df = discharges_df.join(facilities_df, discharges_df.facility_id == facilities_df.id)"
   ]
  },
  {
   "cell_type": "code",
   "execution_count": 3,
   "id": "bda47c9d-4a1f-4061-a5d8-06baa9406326",
   "metadata": {
    "execution": {
     "iopub.execute_input": "2022-12-01T06:59:25.100611Z",
     "iopub.status.busy": "2022-12-01T06:59:25.100436Z",
     "iopub.status.idle": "2022-12-01T06:59:40.491004Z",
     "shell.execute_reply": "2022-12-01T06:59:40.490295Z",
     "shell.execute_reply.started": "2022-12-01T06:59:25.100589Z"
    },
    "tags": []
   },
   "outputs": [
    {
     "data": {
      "application/vnd.jupyter.widget-view+json": {
       "model_id": "84723e58e04741848ac312060a13f8b9",
       "version_major": 2,
       "version_minor": 0
      },
      "text/plain": [
       "VBox()"
      ]
     },
     "metadata": {},
     "output_type": "display_data"
    },
    {
     "data": {
      "application/vnd.jupyter.widget-view+json": {
       "model_id": "",
       "version_major": 2,
       "version_minor": 0
      },
      "text/plain": [
       "FloatProgress(value=0.0, bar_style='info', description='Progress:', layout=Layout(height='25px', width='50%'),…"
      ]
     },
     "metadata": {},
     "output_type": "display_data"
    },
    {
     "name": "stdout",
     "output_type": "stream",
     "text": [
      "+--------+--------------------+--------------------+\n",
      "|zip_code|number_of_facilities|zip_code_total_costs|\n",
      "+--------+--------------------+--------------------+\n",
      "|   10021|                   4|2.1432856285000007E9|\n",
      "|   10467|                   2|1.4222678575199995E9|\n",
      "|   11030|                   1| 1.283856685279985E9|\n",
      "+--------+--------------------+--------------------+"
     ]
    }
   ],
   "source": [
    "df = discharges_df.join(facilities_df, discharges_df.facility_id == facilities_df.id)\n",
    "\n",
    "df.groupBy(\"zip_code\")\\\n",
    "    .agg(\\\n",
    "        F.sum(\"total_costs\").alias(\"zip_code_total_costs\"),\n",
    "        F.countDistinct(\"facility_id\").alias(\"number_of_facilities\")\n",
    "    )\\\n",
    "    .select(\"zip_code\", \"number_of_facilities\", \"zip_code_total_costs\")\\\n",
    "    .orderBy(F.col(\"zip_code_total_costs\").desc())\\\n",
    "    .limit(3)\\\n",
    "    .show()"
   ]
  },
  {
   "cell_type": "markdown",
   "id": "45423f1a-28dd-4daf-9d2e-127dcb5fbe9b",
   "metadata": {},
   "source": [
    "### What DRG + MDC results in the most charges to patients?"
   ]
  },
  {
   "cell_type": "code",
   "execution_count": 4,
   "id": "c7c53ac2-473e-46d0-b2b2-0661df509694",
   "metadata": {
    "execution": {
     "iopub.execute_input": "2022-12-01T06:59:40.492671Z",
     "iopub.status.busy": "2022-12-01T06:59:40.492400Z",
     "iopub.status.idle": "2022-12-01T06:59:40.597274Z",
     "shell.execute_reply": "2022-12-01T06:59:40.590528Z",
     "shell.execute_reply.started": "2022-12-01T06:59:40.492619Z"
    },
    "tags": []
   },
   "outputs": [
    {
     "data": {
      "application/vnd.jupyter.widget-view+json": {
       "model_id": "3de808c95c90410ab6806fd0b3885f81",
       "version_major": 2,
       "version_minor": 0
      },
      "text/plain": [
       "VBox()"
      ]
     },
     "metadata": {},
     "output_type": "display_data"
    },
    {
     "data": {
      "application/vnd.jupyter.widget-view+json": {
       "model_id": "",
       "version_major": 2,
       "version_minor": 0
      },
      "text/plain": [
       "FloatProgress(value=0.0, bar_style='info', description='Progress:', layout=Layout(height='25px', width='50%'),…"
      ]
     },
     "metadata": {},
     "output_type": "display_data"
    }
   ],
   "source": [
    "df = discharges_df.join(apr_drg_code_df, discharges_df.apr_drg_code == apr_drg_code_df.code).withColumnRenamed(\"description\", \"drg_description\")\\\n",
    "    .join(apr_mdc_code_df, discharges_df.apr_mdc_code == apr_mdc_code_df.code).withColumnRenamed(\"description\", \"mdc_description\")"
   ]
  },
  {
   "cell_type": "code",
   "execution_count": 5,
   "id": "68240882-6200-46be-b20a-222b5abb1408",
   "metadata": {
    "execution": {
     "iopub.execute_input": "2022-12-01T06:59:40.604982Z",
     "iopub.status.busy": "2022-12-01T06:59:40.604471Z",
     "iopub.status.idle": "2022-12-01T06:59:50.027679Z",
     "shell.execute_reply": "2022-12-01T06:59:50.026959Z",
     "shell.execute_reply.started": "2022-12-01T06:59:40.604940Z"
    },
    "tags": []
   },
   "outputs": [
    {
     "data": {
      "application/vnd.jupyter.widget-view+json": {
       "model_id": "be54f773956a4ff7bb3dd71ba2a88f91",
       "version_major": 2,
       "version_minor": 0
      },
      "text/plain": [
       "VBox()"
      ]
     },
     "metadata": {},
     "output_type": "display_data"
    },
    {
     "data": {
      "application/vnd.jupyter.widget-view+json": {
       "model_id": "",
       "version_major": 2,
       "version_minor": 0
      },
      "text/plain": [
       "FloatProgress(value=0.0, bar_style='info', description='Progress:', layout=Layout(height='25px', width='50%'),…"
      ]
     },
     "metadata": {},
     "output_type": "display_data"
    },
    {
     "name": "stdout",
     "output_type": "stream",
     "text": [
      "+------------+--------------------------------------+----------------------------------------------------------------+--------------------+\n",
      "|apr_drg_code|drg_description                       |mdc_description                                                 |total_drg_charges   |\n",
      "+------------+--------------------------------------+----------------------------------------------------------------+--------------------+\n",
      "|720         |SEPTICEMIA AND DISSEMINATED INFECTIONS|Infectious and Parasitic Diseases, Systemic or Unspecified Sites|2.6519396024100065E9|\n",
      "+------------+--------------------------------------+----------------------------------------------------------------+--------------------+"
     ]
    }
   ],
   "source": [
    "df.groupBy(\"apr_drg_code\")\\\n",
    "    .agg(\\\n",
    "        F.sum(\"total_charges\").alias(\"total_drg_charges\"),\n",
    "        F.first(\"drg_description\").alias(\"drg_description\"),\n",
    "        F.first(\"mdc_description\").alias(\"mdc_description\")\n",
    "    )\\\n",
    "    .select(\"apr_drg_code\", \"drg_description\", \"mdc_description\", \"total_drg_charges\")\\\n",
    "    .orderBy(F.col(\"total_drg_charges\").desc())\\\n",
    "    .limit(1)\\\n",
    "    .show(truncate=False)"
   ]
  },
  {
   "cell_type": "markdown",
   "id": "22e33b29-7ff6-44dd-9788-6b83504de5cc",
   "metadata": {},
   "source": [
    "### What is the most prevalent DRG at each medical facility?"
   ]
  },
  {
   "cell_type": "code",
   "execution_count": 6,
   "id": "c9a16a8d-d99a-41a4-a73b-4a2d35b01018",
   "metadata": {
    "execution": {
     "iopub.execute_input": "2022-12-01T06:59:50.029054Z",
     "iopub.status.busy": "2022-12-01T06:59:50.028796Z",
     "iopub.status.idle": "2022-12-01T06:59:50.297754Z",
     "shell.execute_reply": "2022-12-01T06:59:50.296955Z",
     "shell.execute_reply.started": "2022-12-01T06:59:50.029018Z"
    },
    "tags": []
   },
   "outputs": [
    {
     "data": {
      "application/vnd.jupyter.widget-view+json": {
       "model_id": "346ea2d2532f4270b2bb2e55144ed155",
       "version_major": 2,
       "version_minor": 0
      },
      "text/plain": [
       "VBox()"
      ]
     },
     "metadata": {},
     "output_type": "display_data"
    },
    {
     "data": {
      "application/vnd.jupyter.widget-view+json": {
       "model_id": "",
       "version_major": 2,
       "version_minor": 0
      },
      "text/plain": [
       "FloatProgress(value=0.0, bar_style='info', description='Progress:', layout=Layout(height='25px', width='50%'),…"
      ]
     },
     "metadata": {},
     "output_type": "display_data"
    }
   ],
   "source": [
    "df = discharges_df.join(apr_drg_code_df, discharges_df.apr_drg_code == apr_drg_code_df.code).withColumnRenamed(\"description\", \"drg_description\")\\\n",
    "    .join(apr_mdc_code_df, discharges_df.apr_mdc_code == apr_mdc_code_df.code).withColumnRenamed(\"description\", \"mdc_description\")\\\n",
    "    .join(facilities_df, discharges_df.facility_id == facilities_df.id)"
   ]
  },
  {
   "cell_type": "code",
   "execution_count": 8,
   "id": "876a9bba-895c-4580-aba6-876f89d28ec1",
   "metadata": {
    "execution": {
     "iopub.execute_input": "2022-12-01T07:05:01.602036Z",
     "iopub.status.busy": "2022-12-01T07:05:01.601793Z",
     "iopub.status.idle": "2022-12-01T07:05:31.038457Z",
     "shell.execute_reply": "2022-12-01T07:05:31.037652Z",
     "shell.execute_reply.started": "2022-12-01T07:05:01.602011Z"
    },
    "tags": []
   },
   "outputs": [
    {
     "data": {
      "application/vnd.jupyter.widget-view+json": {
       "model_id": "a48737f2fdfb40b39a2d924d8274c1b0",
       "version_major": 2,
       "version_minor": 0
      },
      "text/plain": [
       "VBox()"
      ]
     },
     "metadata": {},
     "output_type": "display_data"
    },
    {
     "data": {
      "application/vnd.jupyter.widget-view+json": {
       "model_id": "",
       "version_major": 2,
       "version_minor": 0
      },
      "text/plain": [
       "FloatProgress(value=0.0, bar_style='info', description='Progress:', layout=Layout(height='25px', width='50%'),…"
      ]
     },
     "metadata": {},
     "output_type": "display_data"
    },
    {
     "name": "stdout",
     "output_type": "stream",
     "text": [
      "+-------------------------------------------------------------------------------------------+------------+-------------------------------------------------------------------------------+---------------+\n",
      "|facility_name                                                                              |apr_drg_code|drg_description                                                                |discharge_count|\n",
      "+-------------------------------------------------------------------------------------------+------------+-------------------------------------------------------------------------------+---------------+\n",
      "|Wyoming County Community Hospital                                                          |140         |CHRONIC OBSTRUCTIVE PULMONARY DISEASE                                          |147            |\n",
      "|Wyckoff Heights Medical Center                                                             |204         |SYNCOPE AND COLLAPSE                                                           |303            |\n",
      "|Woodhull Medical & Mental Health Center                                                    |640         |NEONATE BIRTH WEIGHT > 2499 GRAMS, NORMAL NEWBORN OR NEONATE WITH OTHER PROBLEM|1764           |\n",
      "|Winifred Masterson Burke Rehabilitation Hospital                                           |044         |INTRACRANIAL HEMORRHAGE                                                        |17             |\n",
      "|White Plains Hospital Center                                                               |463         |KIDNEY AND URINARY TRACT INFECTIONS                                            |301            |\n",
      "|Westfield Memorial Hospital Inc                                                            |140         |CHRONIC OBSTRUCTIVE PULMONARY DISEASE                                          |19             |\n",
      "|Westchester Medical Center                                                                 |751         |MAJOR DEPRESSIVE DISORDERS AND OTHER OR UNSPECIFIED PSYCHOSES                  |805            |\n",
      "|Vassar Brothers Medical Center                                                             |640         |NEONATE BIRTH WEIGHT > 2499 GRAMS, NORMAL NEWBORN OR NEONATE WITH OTHER PROBLEM|4792           |\n",
      "|University Hospital of Brooklyn                                                            |640         |NEONATE BIRTH WEIGHT > 2499 GRAMS, NORMAL NEWBORN OR NEONATE WITH OTHER PROBLEM|1091           |\n",
      "|University Hospital SUNY Health Science Center                                             |021         |OPEN CRANIOTOMY EXCEPT TRAUMA                                                  |305            |\n",
      "|Unity Specialty Hospital                                                                   |754         |DEPRESSION EXCEPT MAJOR DEPRESSIVE DISORDER                                    |309            |\n",
      "|United Memorial Medical Center North Street Campus                                         |640         |NEONATE BIRTH WEIGHT > 2499 GRAMS, NORMAL NEWBORN OR NEONATE WITH OTHER PROBLEM|502            |\n",
      "|United Memorial Medical Center Bank Street Campus                                          |772         |ALCOHOL AND DRUG DEPENDENCE WITH REHABILITATION AND/OR DETOXIFICATION THERAPY  |229            |\n",
      "|United Health Services Hospitals Inc. - Wilson Medical Center                              |640         |NEONATE BIRTH WEIGHT > 2499 GRAMS, NORMAL NEWBORN OR NEONATE WITH OTHER PROBLEM|1407           |\n",
      "|United Health Services Hospitals Inc. - Binghamton General Hospital                        |772         |ALCOHOL AND DRUG DEPENDENCE WITH REHABILITATION AND/OR DETOXIFICATION THERAPY  |213            |\n",
      "|UPSTATE University Hospital at Community General                                           |751         |MAJOR DEPRESSIVE DISORDERS AND OTHER OR UNSPECIFIED PSYCHOSES                  |289            |\n",
      "|UPMC Chautauqua at WCA                                                                     |640         |NEONATE BIRTH WEIGHT > 2499 GRAMS, NORMAL NEWBORN OR NEONATE WITH OTHER PROBLEM|524            |\n",
      "|The University of Vermont Health Network - Elizabethtown Community Hospital Moses Ludington|140         |CHRONIC OBSTRUCTIVE PULMONARY DISEASE                                          |35             |\n",
      "|The University of Vermont Health Network - Elizabethtown Community Hospital                |139         |OTHER PNEUMONIA                                                                |51             |\n",
      "|The University of Vermont Health Network - Champlain Valley Physicians Hospital            |640         |NEONATE BIRTH WEIGHT > 2499 GRAMS, NORMAL NEWBORN OR NEONATE WITH OTHER PROBLEM|883            |\n",
      "+-------------------------------------------------------------------------------------------+------------+-------------------------------------------------------------------------------+---------------+\n",
      "only showing top 20 rows"
     ]
    }
   ],
   "source": [
    "df.groupBy(\"facility_id\", \"apr_drg_code\")\\\n",
    "    .agg(\\\n",
    "        F.count('*').alias(\"discharge_count\"),\n",
    "        F.first(\"drg_description\").alias(\"drg_description\"),\n",
    "        F.first(\"name\").alias(\"facility_name\")\n",
    "    )\\\n",
    "    .orderBy(F.col(\"discharge_count\").desc())\\\n",
    "    .groupBy(\"facility_id\")\\\n",
    "    .agg(\\\n",
    "         F.first(\"apr_drg_code\").alias(\"apr_drg_code\"),\n",
    "         F.first(\"discharge_count\").alias(\"discharge_count\"),\n",
    "         F.first(\"drg_description\").alias(\"drg_description\"),\n",
    "         F.first(\"facility_name\").alias(\"facility_name\")\n",
    "    )\\\n",
    "    .select(\"facility_name\", \"apr_drg_code\", \"drg_description\", \"discharge_count\")\\\n",
    "    .orderBy(F.col(\"facility_name\").desc())\\\n",
    "    .show(truncate=False)"
   ]
  }
 ],
 "metadata": {
  "kernelspec": {
   "display_name": "PySpark",
   "language": "python",
   "name": "pysparkkernel"
  },
  "language_info": {
   "codemirror_mode": {
    "name": "python",
    "version": 3
   },
   "file_extension": ".py",
   "mimetype": "text/x-python",
   "name": "pyspark",
   "pygments_lexer": "python3"
  }
 },
 "nbformat": 4,
 "nbformat_minor": 5
}
